{
 "cells": [
  {
   "cell_type": "code",
   "execution_count": 1,
   "metadata": {},
   "outputs": [],
   "source": [
    "import tensorflow as tf"
   ]
  },
  {
   "cell_type": "code",
   "execution_count": 2,
   "metadata": {},
   "outputs": [],
   "source": [
    "#w = weight\n",
    "#b = baises\n",
    "#x = inputs\n",
    "#y = outputs"
   ]
  },
  {
   "cell_type": "code",
   "execution_count": 3,
   "metadata": {},
   "outputs": [],
   "source": [
    "w = tf.Variable([-.3], tf.float32)\n",
    "b = tf.Variable([.3], tf.float32)\n",
    "x = tf.placeholder(tf.float32)"
   ]
  },
  {
   "cell_type": "code",
   "execution_count": 4,
   "metadata": {},
   "outputs": [],
   "source": [
    "'''\n",
    "Loss calculation\n",
    "sqt_out = (liner_model_or_black_box - y)^2 to find difference between model output and given output\n",
    "loss = sum all sqt_errors\n",
    "'''\n",
    "\n",
    "liner_model_or_black_box = w*x+b\n",
    "y = tf.placeholder(tf.float32)\n",
    "sqt_out = tf.square(liner_model_or_black_box - y)\n",
    "loss = tf.reduce_sum(sqt_out)"
   ]
  },
  {
   "cell_type": "code",
   "execution_count": 5,
   "metadata": {},
   "outputs": [],
   "source": [
    "init = tf.global_variables_initializer()"
   ]
  },
  {
   "cell_type": "code",
   "execution_count": 6,
   "metadata": {},
   "outputs": [
    {
     "name": "stdout",
     "output_type": "stream",
     "text": [
      "6.86  loss were gained\n"
     ]
    }
   ],
   "source": [
    "with tf.Session() as session:\n",
    "    file_writer = tf.summary.FileWriter('graph', session.graph)\n",
    "    session.run(init)\n",
    "    gain_loss = session.run(loss,{x:[1,2,3,4], y:[0,-1,-2,-3]})\n",
    "    print(gain_loss,\" loss were gained\")"
   ]
  },
  {
   "cell_type": "code",
   "execution_count": null,
   "metadata": {},
   "outputs": [],
   "source": []
  }
 ],
 "metadata": {
  "kernelspec": {
   "display_name": "Python 3",
   "language": "python",
   "name": "python3"
  },
  "language_info": {
   "codemirror_mode": {
    "name": "ipython",
    "version": 3
   },
   "file_extension": ".py",
   "mimetype": "text/x-python",
   "name": "python",
   "nbconvert_exporter": "python",
   "pygments_lexer": "ipython3",
   "version": "3.5.2"
  }
 },
 "nbformat": 4,
 "nbformat_minor": 2
}
