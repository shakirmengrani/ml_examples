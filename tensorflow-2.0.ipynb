{
 "cells": [
  {
   "cell_type": "code",
   "execution_count": 1,
   "metadata": {},
   "outputs": [
    {
     "data": {
      "text/plain": [
       "'2.0.0-alpha0'"
      ]
     },
     "execution_count": 1,
     "metadata": {},
     "output_type": "execute_result"
    }
   ],
   "source": [
    "import tensorflow as tf\n",
    "import numpy as np\n",
    "tf.__version__"
   ]
  },
  {
   "cell_type": "code",
   "execution_count": 2,
   "metadata": {},
   "outputs": [
    {
     "name": "stdout",
     "output_type": "stream",
     "text": [
      "tf.Tensor([201.14285 227.07143 254.57143], shape=(3,), dtype=float32)\n"
     ]
    }
   ],
   "source": [
    "Pi = tf.constant(tf.divide(22,7))\n",
    "def area(x):\n",
    "    radius = tf.divide(x, 2.0)\n",
    "    return tf.multiply(tf.square(radius), Pi)\n",
    "print(area(tf.Variable([16.0,17.0,18.0])))"
   ]
  },
  {
   "cell_type": "code",
   "execution_count": 3,
   "metadata": {},
   "outputs": [
    {
     "name": "stdout",
     "output_type": "stream",
     "text": [
      "<tf.Variable 'W:0' shape=(2, 2) dtype=float32> <tf.Variable 'Variable:0' shape=(2, 2) dtype=float32> <tf.Variable 'b:0' shape=(2,) dtype=float32>\n",
      "tf.Tensor(\n",
      "[[1.  0. ]\n",
      " [0.  0.1]], shape=(2, 2), dtype=float32)\n",
      "tf.Tensor(0.032, shape=(), dtype=float32)\n"
     ]
    }
   ],
   "source": [
    "W = tf.Variable(tf.ones(shape=(2,2)), name=\"W\")\n",
    "b = tf.Variable(tf.zeros(shape=(2)), name=\"b\")\n",
    "\n",
    "@tf.function\n",
    "def forward(x):\n",
    "    print(\"{} {} {}\".format(W, x, b))\n",
    "    return W * x + b\n",
    "\n",
    "out_a = forward(tf.Variable([[1.0, 0.0],[0.0, 0.1]]))\n",
    "print(out_a)\n",
    "regularizer = tf.keras.regularizers.l1(0.008)\n",
    "reg_loss = regularizer(W)\n",
    "print(reg_loss)"
   ]
  },
  {
   "cell_type": "code",
   "execution_count": null,
   "metadata": {},
   "outputs": [],
   "source": []
  }
 ],
 "metadata": {
  "kernelspec": {
   "display_name": "Python 3",
   "language": "python",
   "name": "python3"
  },
  "language_info": {
   "codemirror_mode": {
    "name": "ipython",
    "version": 3
   },
   "file_extension": ".py",
   "mimetype": "text/x-python",
   "name": "python",
   "nbconvert_exporter": "python",
   "pygments_lexer": "ipython3",
   "version": "3.5.2"
  }
 },
 "nbformat": 4,
 "nbformat_minor": 2
}
