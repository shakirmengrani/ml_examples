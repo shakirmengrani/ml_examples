{
 "cells": [
  {
   "cell_type": "code",
   "execution_count": 1,
   "metadata": {},
   "outputs": [],
   "source": [
    "import tensorflow as tf"
   ]
  },
  {
   "cell_type": "code",
   "execution_count": 2,
   "metadata": {},
   "outputs": [],
   "source": [
    "#w = weight\n",
    "#b = baises\n",
    "#x = inputs\n",
    "#y = outputs"
   ]
  },
  {
   "cell_type": "code",
   "execution_count": 3,
   "metadata": {},
   "outputs": [],
   "source": [
    "w = tf.Variable([-0.3], tf.float32)\n",
    "b = tf.Variable([.3], tf.float32)\n",
    "x = tf.placeholder(tf.float32)"
   ]
  },
  {
   "cell_type": "code",
   "execution_count": 4,
   "metadata": {},
   "outputs": [],
   "source": [
    "'''\n",
    "Loss calculation\n",
    "sqt_out = (liner_model_or_black_box - y)^2 to find difference between model output and given output\n",
    "loss = sum all sqt_errors\n",
    "'''\n",
    "\n",
    "liner_model_or_black_box = w*x+b\n",
    "y = tf.placeholder(tf.float32)\n",
    "sqt_out = tf.square(liner_model_or_black_box - y)\n",
    "loss = tf.reduce_sum(sqt_out) # j min(w) whereas j is sum of all errors and divied by 2 for changing w to minimize errors"
   ]
  },
  {
   "cell_type": "code",
   "execution_count": 5,
   "metadata": {},
   "outputs": [],
   "source": [
    "# Optimize errors\n",
    "steps = 0.01\n",
    "optmizer = tf.train.GradientDescentOptimizer(steps)\n",
    "train = optmizer.minimize(loss)"
   ]
  },
  {
   "cell_type": "code",
   "execution_count": 6,
   "metadata": {},
   "outputs": [],
   "source": [
    "init = tf.global_variables_initializer()"
   ]
  },
  {
   "cell_type": "code",
   "execution_count": 7,
   "metadata": {},
   "outputs": [
    {
     "name": "stdout",
     "output_type": "stream",
     "text": [
      "[array([-0.99999827], dtype=float32), array([ 0.99999493], dtype=float32)]\n"
     ]
    }
   ],
   "source": [
    "with tf.Session() as session:\n",
    "    file_writer = tf.summary.FileWriter('graph', session.graph)\n",
    "    session.run(init)\n",
    "    for i in range(1000):\n",
    "        session.run(train, {x:[1,2,3,4], y:[0,-1,-2,-3]})\n",
    "    got_changes = session.run([w, b])\n",
    "    print(got_changes)"
   ]
  },
  {
   "cell_type": "code",
   "execution_count": null,
   "metadata": {},
   "outputs": [],
   "source": []
  }
 ],
 "metadata": {
  "kernelspec": {
   "display_name": "Python 3",
   "language": "python",
   "name": "python3"
  },
  "language_info": {
   "codemirror_mode": {
    "name": "ipython",
    "version": 3
   },
   "file_extension": ".py",
   "mimetype": "text/x-python",
   "name": "python",
   "nbconvert_exporter": "python",
   "pygments_lexer": "ipython3",
   "version": "3.5.2"
  }
 },
 "nbformat": 4,
 "nbformat_minor": 2
}
