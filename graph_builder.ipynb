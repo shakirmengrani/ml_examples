{
 "cells": [
  {
   "cell_type": "code",
   "execution_count": 1,
   "metadata": {},
   "outputs": [],
   "source": [
    "import tensorflow as tf\n",
    "import math, os"
   ]
  },
  {
   "cell_type": "code",
   "execution_count": 2,
   "metadata": {},
   "outputs": [],
   "source": [
    "def buildGraph(R):\n",
    "    radius_tensor_var = tf.Variable(R)\n",
    "    radius_tensor_var.initializer.run()\n",
    "    pi_tensor = tf.constant(math.pi)\n",
    "    diameter_tensor = tf.multiply(radius_tensor_var, tf.constant(2.0))\n",
    "    circumference_circle_graph = tf.multiply(diameter_tensor, pi_tensor)\n",
    "    radius_square_op = tf.pow(radius_tensor_var,tf.constant(2.0))\n",
    "    area_graph = tf.multiply(pi_tensor,radius_square_op)\n",
    "    return (circumference_circle_graph, area_graph, radius_tensor_var)"
   ]
  },
  {
   "cell_type": "code",
   "execution_count": 3,
   "metadata": {},
   "outputs": [
    {
     "name": "stdout",
     "output_type": "stream",
     "text": [
      "Enter radius of circle: 8\n",
      "Circumference 50.26548385620117\n",
      "Area 201.0619354248047\n",
      "Do you want to calculate another radius22.22\n",
      "Enter radius of circle: 22.22\n",
      "Circumference 139.6123809814453\n",
      "Area 1551.0933837890625\n",
      "Do you want to calculate another radiusy\n",
      "Enter radius of circle: 180\n",
      "Circumference 1130.973388671875\n",
      "Area 101787.6015625\n",
      "Do you want to calculate another radiusy\n",
      "Enter radius of circle: 360\n",
      "Circumference 2261.94677734375\n",
      "Area 407150.40625\n",
      "Do you want to calculate another radiusn\n"
     ]
    }
   ],
   "source": [
    "defaultRaduis = 0.0\n",
    "sess = tf.InteractiveSession()\n",
    "circumference_circle_graph, area_graph, radius_tensor_var = buildGraph(defaultRaduis)\n",
    "while True:\n",
    "    user_radius = float(input(\"Enter radius of circle: \"))\n",
    "    tf.assign(radius_tensor_var, user_radius).eval()\n",
    "    circumference = circumference_circle_graph.eval()\n",
    "    area = area_graph.eval()\n",
    "    print(\"Circumference {}\".format(circumference))\n",
    "    print(\"Area {}\".format(area))\n",
    "    another = input(\"Do you want to calculate another radius: \")\n",
    "    if(another == \"n\"):\n",
    "        break\n",
    "sess.close()    "
   ]
  },
  {
   "cell_type": "code",
   "execution_count": 8,
   "metadata": {},
   "outputs": [
    {
     "name": "stdout",
     "output_type": "stream",
     "text": [
      "area 201.0619354248047 and circumference 50.26548385620117\n"
     ]
    }
   ],
   "source": [
    "Pi = tf.constant(math.pi)\n",
    "diameter = tf.placeholder(tf.float32)\n",
    "half = tf.constant(2.0,tf.float32)\n",
    "r = tf.divide(diameter, half)\n",
    "area_1 = tf.multiply(tf.square(r),Pi)\n",
    "circumference_circle_graph_1 = tf.multiply(diameter, Pi)\n",
    "with tf.Session() as session:\n",
    "    file_writer = tf.summary.FileWriter('graph', session.graph)\n",
    "    result = session.run([area_1, circumference_circle_graph_1], {diameter:[16]})\n",
    "print(\"area {} and circumference {}\".format(result[0][0], result[1][0]))\n"
   ]
  }
 ],
 "metadata": {
  "kernelspec": {
   "display_name": "Python 3",
   "language": "python",
   "name": "python3"
  },
  "language_info": {
   "codemirror_mode": {
    "name": "ipython",
    "version": 3
   },
   "file_extension": ".py",
   "mimetype": "text/x-python",
   "name": "python",
   "nbconvert_exporter": "python",
   "pygments_lexer": "ipython3",
   "version": "3.5.2"
  }
 },
 "nbformat": 4,
 "nbformat_minor": 2
}
