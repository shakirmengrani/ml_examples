{
 "cells": [
  {
   "cell_type": "code",
   "execution_count": 126,
   "metadata": {},
   "outputs": [],
   "source": [
    "import pandas as pd\n",
    "import quandl, math\n",
    "import numpy as np\n",
    "from sklearn import preprocessing, cross_validation, svm\n",
    "from sklearn.linear_model import LinearRegression"
   ]
  },
  {
   "cell_type": "code",
   "execution_count": 108,
   "metadata": {},
   "outputs": [],
   "source": [
    "quandl.ApiConfig.api_key = 'GjLwxi33Rb7vDUF1okGy'\n",
    "df = quandl.get_table('WIKI/PRICES', date='1999-11-01')"
   ]
  },
  {
   "cell_type": "code",
   "execution_count": 109,
   "metadata": {},
   "outputs": [
    {
     "name": "stdout",
     "output_type": "stream",
     "text": [
      "     ticker       date    open   high    low   close     volume  ex-dividend  \\\n",
      "None                                                                           \n",
      "0       AAN 1999-11-01  15.440  15.44  15.44  15.440        0.0          0.0   \n",
      "1      AAON 1999-11-01  13.160  13.16  13.13  13.130     1071.0          0.0   \n",
      "2      AAPL 1999-11-01  80.000  80.69  77.37  77.620  2487300.0          0.0   \n",
      "3      ABAX 1999-11-01   4.906   5.00   4.75   4.813    10100.0          0.0   \n",
      "4       ABC 1999-11-01  15.130  15.13  13.44  13.690   499000.0          0.0   \n",
      "\n",
      "      split_ratio  adj_open  adj_high   adj_low  adj_close    adj_volume  \n",
      "None                                                                      \n",
      "0             1.0  4.354806  4.354806  4.354806   4.354806  0.000000e+00  \n",
      "1             1.0  1.000082  1.000082  0.997802   0.997802  1.219936e+04  \n",
      "2             1.0  2.570279  2.592447  2.485781   2.493813  6.964440e+07  \n",
      "3             1.0  4.620787  4.709322  4.473856   4.533194  1.010000e+04  \n",
      "4             1.0  3.166345  3.166345  2.812669   2.864988  1.996000e+06  \n"
     ]
    }
   ],
   "source": [
    "print(df.head())"
   ]
  },
  {
   "cell_type": "code",
   "execution_count": 110,
   "metadata": {},
   "outputs": [],
   "source": [
    "df = df[['adj_open','adj_high','adj_low','adj_close','adj_volume']]"
   ]
  },
  {
   "cell_type": "code",
   "execution_count": 111,
   "metadata": {},
   "outputs": [],
   "source": [
    "df['HL_PCT'] = (df['adj_high'] - df['adj_close']) / df['adj_close'] * 100.0"
   ]
  },
  {
   "cell_type": "code",
   "execution_count": 112,
   "metadata": {},
   "outputs": [],
   "source": [
    "df['PCT_Change'] = (df['adj_open'] - df['adj_close']) / df['adj_open'] * 100.0"
   ]
  },
  {
   "cell_type": "code",
   "execution_count": 113,
   "metadata": {},
   "outputs": [
    {
     "name": "stdout",
     "output_type": "stream",
     "text": [
      "      adj_open  adj_high   adj_low  adj_close    adj_volume     HL_PCT  \\\n",
      "None                                                                     \n",
      "0     4.354806  4.354806  4.354806   4.354806  0.000000e+00   0.000000   \n",
      "1     1.000082  1.000082  0.997802   0.997802  1.219936e+04   0.228484   \n",
      "2     2.570279  2.592447  2.485781   2.493813  6.964440e+07   3.955166   \n",
      "3     4.620787  4.709322  4.473856   4.533194  1.010000e+04   3.885311   \n",
      "4     3.166345  3.166345  2.812669   2.864988  1.996000e+06  10.518627   \n",
      "\n",
      "      PCT_Change  \n",
      "None              \n",
      "0       0.000000  \n",
      "1       0.227964  \n",
      "2       2.975000  \n",
      "3       1.895638  \n",
      "4       9.517515  \n"
     ]
    }
   ],
   "source": [
    "print(df.head())"
   ]
  },
  {
   "cell_type": "code",
   "execution_count": 119,
   "metadata": {},
   "outputs": [],
   "source": [
    "df = df[['adj_close','HL_PCT','PCT_Change','adj_volume']]"
   ]
  },
  {
   "cell_type": "code",
   "execution_count": 120,
   "metadata": {},
   "outputs": [],
   "source": [
    "forcast_col = \"adj_close\""
   ]
  },
  {
   "cell_type": "code",
   "execution_count": 147,
   "metadata": {},
   "outputs": [
    {
     "name": "stdout",
     "output_type": "stream",
     "text": [
      "30\n"
     ]
    }
   ],
   "source": [
    "df.fillna(0, inplace=True)\n",
    "forcast_out = 30 #int(math.ceil(0.1*len(df)))\n",
    "print(forcast_out)\n",
    "df['label'] = df[forcast_col].shift(-forcast_out)"
   ]
  },
  {
   "cell_type": "code",
   "execution_count": 181,
   "metadata": {},
   "outputs": [
    {
     "name": "stdout",
     "output_type": "stream",
     "text": [
      "      adj_close    HL_PCT  PCT_Change  adj_volume      label\n",
      "None                                                        \n",
      "1574  13.250000  5.660377   -1.042196    465300.0   5.095415\n",
      "1575  23.342418  2.705411   -0.217573   1083000.0  13.560661\n",
      "1576   3.608978  3.697559   -0.740210    715900.0   1.798797\n",
      "1577   1.440000  0.000000    0.000000      2200.0  13.379030\n",
      "1578  26.709025  4.545455    2.878333     93800.0  12.237670\n"
     ]
    }
   ],
   "source": [
    "df.dropna(inplace=True)\n",
    "print(df.tail())"
   ]
  },
  {
   "cell_type": "code",
   "execution_count": 149,
   "metadata": {},
   "outputs": [],
   "source": [
    "X = np.array(df.drop(['label'],1))\n",
    "y = np.array(df['label'])"
   ]
  },
  {
   "cell_type": "code",
   "execution_count": 150,
   "metadata": {},
   "outputs": [],
   "source": [
    "X = preprocessing.scale(X)\n",
    "df.dropna(inplace=True)\n",
    "y = np.array(df['label'])"
   ]
  },
  {
   "cell_type": "code",
   "execution_count": 194,
   "metadata": {},
   "outputs": [
    {
     "name": "stdout",
     "output_type": "stream",
     "text": [
      "-0.237277824583\n",
      "-0.0311296460503\n",
      "-0.0311296460503\n"
     ]
    }
   ],
   "source": [
    "X_train, x_test, Y_train, y_test = cross_validation.train_test_split(X,y, test_size=0.2)\n",
    "clf = LinearRegression()\n",
    "clf.fit(X_train, Y_train)\n",
    "accuracy = clf.score(x_test,y_test)\n",
    "print(accuracy)\n",
    "\n",
    "clf1 = svm.SVR()\n",
    "clf1.fit(X_train, Y_train)\n",
    "accuracy1 = clf1.score(x_test,y_test)\n",
    "print(accuracy1)\n",
    "\n",
    "clf2 = svm.SVR(kernel='poly')\n",
    "clf2.fit(X_train, Y_train)\n",
    "accuracy2 = clf1.score(x_test,y_test)\n",
    "print(accuracy1)\n",
    "\n"
   ]
  }
 ],
 "metadata": {
  "kernelspec": {
   "display_name": "Python 3",
   "language": "python",
   "name": "python3"
  },
  "language_info": {
   "codemirror_mode": {
    "name": "ipython",
    "version": 3
   },
   "file_extension": ".py",
   "mimetype": "text/x-python",
   "name": "python",
   "nbconvert_exporter": "python",
   "pygments_lexer": "ipython3",
   "version": "3.5.3"
  }
 },
 "nbformat": 4,
 "nbformat_minor": 2
}
