{
 "cells": [
  {
   "cell_type": "code",
   "execution_count": 1,
   "metadata": {},
   "outputs": [],
   "source": [
    "import tensorflow as tf\n",
    "import numpy as np"
   ]
  },
  {
   "cell_type": "code",
   "execution_count": 2,
   "metadata": {},
   "outputs": [],
   "source": [
    "n1 = [[1.0, 2.0],[3.0, 4.0]]"
   ]
  },
  {
   "cell_type": "code",
   "execution_count": 3,
   "metadata": {},
   "outputs": [],
   "source": [
    "n2 = np.array([[1.0,2.0],[3.0,4.0]], dtype=np.float32)"
   ]
  },
  {
   "cell_type": "code",
   "execution_count": 4,
   "metadata": {},
   "outputs": [],
   "source": [
    "n3 = tf.constant([[1.0, 2.0],[3.0,4.0]])"
   ]
  },
  {
   "cell_type": "code",
   "execution_count": 5,
   "metadata": {},
   "outputs": [
    {
     "name": "stdout",
     "output_type": "stream",
     "text": [
      "<class 'list'>\n",
      "<class 'numpy.ndarray'>\n",
      "<class 'tensorflow.python.framework.ops.Tensor'>\n"
     ]
    }
   ],
   "source": [
    "print(type(n1))\n",
    "print(type(n2))\n",
    "print(type(n3))"
   ]
  },
  {
   "cell_type": "code",
   "execution_count": 6,
   "metadata": {},
   "outputs": [],
   "source": [
    "t1 = tf.convert_to_tensor(n1, dtype=tf.float32)\n",
    "t2 = tf.convert_to_tensor(n2, dtype=tf.float32)\n",
    "t3 = tf.convert_to_tensor(n3, dtype=tf.float32)"
   ]
  },
  {
   "cell_type": "code",
   "execution_count": 7,
   "metadata": {},
   "outputs": [
    {
     "name": "stdout",
     "output_type": "stream",
     "text": [
      "<class 'tensorflow.python.framework.ops.Tensor'>\n",
      "<class 'tensorflow.python.framework.ops.Tensor'>\n",
      "<class 'tensorflow.python.framework.ops.Tensor'>\n"
     ]
    }
   ],
   "source": [
    "print(type(t1))\n",
    "print(type(t2))\n",
    "print(type(t3))"
   ]
  },
  {
   "cell_type": "code",
   "execution_count": 8,
   "metadata": {},
   "outputs": [],
   "source": [
    "n4 = [[1,2,3],[4,5,6]]\n",
    "n4 = tf.negative(n4)"
   ]
  },
  {
   "cell_type": "code",
   "execution_count": 9,
   "metadata": {},
   "outputs": [
    {
     "name": "stdout",
     "output_type": "stream",
     "text": [
      "Tensor(\"Neg:0\", shape=(2, 3), dtype=int32)\n"
     ]
    }
   ],
   "source": [
    "print(n4)"
   ]
  },
  {
   "cell_type": "code",
   "execution_count": 10,
   "metadata": {},
   "outputs": [
    {
     "name": "stdout",
     "output_type": "stream",
     "text": [
      "[[-1 -2 -3]\n",
      " [-4 -5 -6]]\n"
     ]
    }
   ],
   "source": [
    "n5 = [[1,2,3],[4,5,6]]\n",
    "sess = tf.InteractiveSession()\n",
    "n5 = tf.negative(n5)\n",
    "print(n5.eval())\n",
    "sess.close()"
   ]
  },
  {
   "cell_type": "code",
   "execution_count": 11,
   "metadata": {},
   "outputs": [
    {
     "name": "stdout",
     "output_type": "stream",
     "text": [
      "Tensor(\"Neg_2:0\", shape=(1, 2), dtype=float32)\n",
      "[[-1. -2.]]\n"
     ]
    }
   ],
   "source": [
    "n6 = tf.constant([[1.,2.]])\n",
    "neg_opt = tf.negative(n6)\n",
    "print(neg_opt)\n",
    "with tf.Session() as sess:\n",
    "    result = sess.run(neg_opt)\n",
    "print(result)"
   ]
  },
  {
   "cell_type": "markdown",
   "metadata": {},
   "source": [
    "(-b + sqrt(b*b-4*a*c)) / 2 * a"
   ]
  },
  {
   "cell_type": "code",
   "execution_count": 12,
   "metadata": {},
   "outputs": [
    {
     "name": "stdout",
     "output_type": "stream",
     "text": [
      "1.25\n"
     ]
    }
   ],
   "source": [
    "a = tf.placeholder(tf.float32)\n",
    "b = tf.placeholder(tf.float32)\n",
    "c = tf.placeholder(tf.float32)\n",
    "four = tf.constant(4.0)\n",
    "two = tf.constant(2.0)\n",
    "b_neg = tf.negative(b)\n",
    "disc = tf.sqrt(tf.subtract(tf.pow(b,two), tf.multiply(tf.multiply(tf.negative(four),a),2)))\n",
    "out = tf.divide(disc,tf.multiply(two,a))\n",
    "init = tf.global_variables_initializer()\n",
    "with tf.Session() as session:\n",
    "    file_writer = tf.summary.FileWriter('graph', session.graph)\n",
    "    session.run(init)\n",
    "    result = session.run(out,{a:2.0,b:3.0,c:4.0})\n",
    "    print(result)"
   ]
  },
  {
   "cell_type": "markdown",
   "metadata": {},
   "source": [
    "area = square(Diameter/2) * Pi"
   ]
  },
  {
   "cell_type": "code",
   "execution_count": 13,
   "metadata": {},
   "outputs": [
    {
     "name": "stdout",
     "output_type": "stream",
     "text": [
      "area [ 201.14285278]\n"
     ]
    }
   ],
   "source": [
    "Pi = tf.constant(tf.divide(22,7))\n",
    "diameter = tf.placeholder(tf.float32)\n",
    "half = tf.constant(2.0,tf.float32)\n",
    "r = tf.divide(diameter, half)\n",
    "area = tf.multiply(tf.square(r),Pi)\n",
    "with tf.Session() as session:\n",
    "    file_writer = tf.summary.FileWriter('graph', session.graph)\n",
    "    result = session.run(area, {diameter:[16]})\n",
    "print(\"area\", result)"
   ]
  }
 ],
 "metadata": {
  "kernelspec": {
   "display_name": "Python 3",
   "language": "python",
   "name": "python3"
  },
  "language_info": {
   "codemirror_mode": {
    "name": "ipython",
    "version": 3
   },
   "file_extension": ".py",
   "mimetype": "text/x-python",
   "name": "python",
   "nbconvert_exporter": "python",
   "pygments_lexer": "ipython3",
   "version": "3.5.2"
  }
 },
 "nbformat": 4,
 "nbformat_minor": 2
}
